{
 "cells": [
  {
   "cell_type": "code",
   "execution_count": 20,
   "metadata": {},
   "outputs": [
    {
     "name": "stderr",
     "output_type": "stream",
     "text": [
      "configrc.store_credentials:WARNING:2020-08-06 21:53:12,452: Credentials already present. Set overwrite=True to overwrite.\n",
      "ibmqfactory.load_account:WARNING:2020-08-06 21:53:13,743: Credentials are already in use. The existing account in the session will be replaced.\n"
     ]
    }
   ],
   "source": [
    "from qiskit import BasicAer, Aer, IBMQ\n",
    "from qiskit.aqua import QuantumInstance, aqua_globals\n",
    "from qiskit.aqua.algorithms import VQE, ExactEigensolver\n",
    "from qiskit.aqua.components.initial_states import Zero\n",
    "from qiskit.aqua.components.optimizers import COBYLA, L_BFGS_B, SLSQP, SPSA\n",
    "from qiskit.aqua.components.variational_forms import RY, RYRZ, SwapRZ\n",
    "from qiskit.aqua.operators import WeightedPauliOperator, Z2Symmetries\n",
    "from qiskit.chemistry import FermionicOperator\n",
    "from qiskit.chemistry.drivers import PySCFDriver, UnitsType\n",
    "from qiskit.chemistry.components.variational_forms import UCCSD\n",
    "from qiskit.chemistry.components.initial_states import HartreeFock\n",
    "\n",
    "from qiskit.providers.aer import QasmSimulator\n",
    "from qiskit.providers.aer.noise import NoiseModel\n",
    "from qiskit.providers.aer.noise.errors import QuantumError, ReadoutError\n",
    "from qiskit.providers.aer.noise.errors import pauli_error\n",
    "from qiskit.providers.aer.noise.errors import depolarizing_error\n",
    "from qiskit.providers.aer.noise.errors import thermal_relaxation_error\n",
    "\n",
    "from qiskit import * \n",
    "\n",
    "from qiskit.providers.aer import noise\n",
    "IBMQ.save_account('d3db0c8bd2b2d40d8aa8549ccb819fde27093100d057e34bede25a0d64c91ed50edbbec60102a426f041f6255fe3e39e10a9acf6b7f39a09ee19f2a9cb5248b0')\n",
    "provider = IBMQ.load_account()\n",
    "\n",
    "\n",
    "import numpy as np\n",
    "import matplotlib.pyplot as plt\n",
    "from functools import partial"
   ]
  },
  {
   "cell_type": "code",
   "execution_count": 21,
   "metadata": {},
   "outputs": [],
   "source": [
    "driver = PySCFDriver(atom='Li .0 .0 .0; H .0 .0 ' + str(1.6), unit=UnitsType.ANGSTROM, charge=0, spin=0, basis='sto3g')\n",
    "freeze_list = [0]\n",
    "remove_list = [-3, -2] "
   ]
  },
  {
   "cell_type": "code",
   "execution_count": 22,
   "metadata": {},
   "outputs": [],
   "source": [
    "def exact_solver(qubitOp):\n",
    "    ee = ExactEigensolver(qubitOp)\n",
    "    result = ee.run()\n",
    "    ref = result['energy']\n",
    "    print('Reference value: {}'.format(ref))\n",
    "    return ref"
   ]
  },
  {
   "cell_type": "code",
   "execution_count": 23,
   "metadata": {},
   "outputs": [],
   "source": [
    "backend = BasicAer.get_backend('statevector_simulator')"
   ]
  },
  {
   "cell_type": "code",
   "execution_count": 24,
   "metadata": {},
   "outputs": [
    {
     "name": "stderr",
     "output_type": "stream",
     "text": [
      "/home/debdeep/anaconda3/lib/python3.7/site-packages/qiskit/providers/aer/noise/device/basic_device_model.py:115: DeprecationWarning: This function is been deprecated and moved to a method of the`NoiseModel` class. For equivalent functionality use `NoiseModel.from_backend(properties, **kwargs).\n",
      "  DeprecationWarning)\n"
     ]
    }
   ],
   "source": [
    "chip_name = 'ibmq_essex'\n",
    "device = provider.get_backend(chip_name)\n",
    "coupling_map = device.configuration().coupling_map\n",
    "noise_model = noise.device.basic_device_noise_model(device.properties())\n",
    "basis_gates = noise_model.basis_gates"
   ]
  },
  {
   "cell_type": "code",
   "execution_count": 25,
   "metadata": {},
   "outputs": [],
   "source": [
    "def exact_solver(qubitOp):\n",
    "    ee = ExactEigensolver(qubitOp)\n",
    "    result = ee.run()\n",
    "    ref = result['energy']\n",
    "    print('Reference value: {}'.format(ref))\n",
    "    return ref\n",
    "def compute_LiH_qubitOp(map_type, inter_dist, basis='sto3g'):\n",
    "    \n",
    "    distances = np.arrange(0.5,4.0,0.1)\n",
    "    exact_energy = list()\n",
    "    vqe_energy = list()\n",
    "    count = 0\n",
    "    backend = BasicAer.get_backend('statevector_simulator')\n",
    "    quantum_instance = QuantumInstance(backend=backend,shots=1024)\n",
    "    optimizer = COBYLA(maxiter=1000)\n",
    "    \n",
    "    for dist in distances:\n",
    "        qubitOp, num_spin_orbitals, num_particles, qubit_reduction, energy_shift, nre = compute_LiH_qubitOp('parity',dist)\n",
    "        exact_result = np.real(NumPyEigensolver(qubitOp).run().eigenvalues)\n",
    "        exact_energies.append(np.real(exact_result[-1]) + energy_shift + nre)\n",
    "    \n",
    "        initial_state = HartreeFock(\n",
    "            num_spin_orbitals,\n",
    "            num_particles,\n",
    "            qubit_mapping='parity',\n",
    "            two_qubit_reduction=qubit_reduction\n",
    "        ) \n",
    "        var_form = UCCSD(\n",
    "            num_orbitals=num_spin_orbitals,\n",
    "            num_particles=num_particles,\n",
    "            initial_state=initial_state,\n",
    "            qubit_mapping='parity',\n",
    "            two_qubit_reduction=qubit_reduction\n",
    "        )\n",
    "        vqe = VQE(qubitOp, var_form, optimizer)\n",
    "        vqe_result = np.real(vqe.run(backend)['eigenvalue'] + shift)\n",
    "        vqe_energies.append(vqe_.run(quantum_instance).eigenvalue.real + energy_shift + nre)\n",
    "        count = count +1\n",
    "        print(count)\n",
    "        \n",
    "\n",
    "    plt.plot(distances,exact_energy,label='Exact Energy')\n",
    "    plt.plot(distances,vqe_energy,label='VQE Energy')\n",
    "    plt.xlabel('Atomic distance (Angstrom)')\n",
    "    plt.ylabel('Energy')\n",
    "    plt.legend()\n",
    "    plt.show()"
   ]
  },
  {
   "cell_type": "code",
   "execution_count": null,
   "metadata": {},
   "outputs": [],
   "source": []
  }
 ],
 "metadata": {
  "kernelspec": {
   "display_name": "Python 3",
   "language": "python",
   "name": "python3"
  },
  "language_info": {
   "codemirror_mode": {
    "name": "ipython",
    "version": 3
   },
   "file_extension": ".py",
   "mimetype": "text/x-python",
   "name": "python",
   "nbconvert_exporter": "python",
   "pygments_lexer": "ipython3",
   "version": "3.7.6"
  }
 },
 "nbformat": 4,
 "nbformat_minor": 4
}
